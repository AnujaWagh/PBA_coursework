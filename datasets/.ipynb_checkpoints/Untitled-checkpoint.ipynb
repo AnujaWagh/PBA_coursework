{
 "cells": [
  {
   "cell_type": "code",
   "execution_count": 1,
   "id": "3bbe7d69",
   "metadata": {},
   "outputs": [],
   "source": [
    "data_list = ['audi.csv','skoda.csv','toyota.csv','vauxhall.csv']"
   ]
  },
  {
   "cell_type": "code",
   "execution_count": 3,
   "id": "e800a70e",
   "metadata": {},
   "outputs": [
    {
     "name": "stdout",
     "output_type": "stream",
     "text": [
      "Column names are model, year, price, transmission, mileage, fuelType, tax, mpg, engineSize\n",
      "Processed 10669 lines.\n",
      "Column names are  Octavia, 2017, 10550, Manual, 25250, Petrol, 150, 54.3, 1.4\n",
      "Processed 6267 lines.\n",
      "Column names are  GT86, 2016, 16000, Manual, 24089, Petrol, 265, 36.2, 2.0\n",
      "Processed 6738 lines.\n",
      "Column names are  Corsa, 2018, 7885, Manual, 9876, Petrol, 145, 55.4, 1.4\n",
      "Processed 13632 lines.\n"
     ]
    }
   ],
   "source": [
    "import csv\n",
    "\n",
    "\n",
    "for i in data_list:\n",
    "    with open(i) as csv_file:\n",
    "        csv_reader = csv.reader(csv_file, delimiter=',')\n",
    "        line_count = 0\n",
    "        for row in csv_reader:\n",
    "            if line_count == 0:\n",
    "                print(f'Column names are {\", \".join(row)}')\n",
    "                line_count += 1\n",
    "            else:\n",
    "                with open('final_dataset.csv', mode='a') as employee_file:\n",
    "                    employee_writer = csv.writer(employee_file, delimiter=',', quotechar='\"', quoting=csv.QUOTE_MINIMAL)\n",
    "\n",
    "                    employee_writer.writerow(row)\n",
    "                line_count += 1\n",
    "        print(f'Processed {line_count} lines.')\n"
   ]
  },
  {
   "cell_type": "code",
   "execution_count": null,
   "id": "c2f0b37f",
   "metadata": {},
   "outputs": [],
   "source": [
    "with open('employee_file.csv', mode='w') as employee_file:\n",
    "    employee_writer = csv.writer(employee_file, delimiter=',', quotechar='\"', quoting=csv.QUOTE_MINIMAL)\n",
    "\n",
    "    employee_writer.writerow(['John Smith', 'Accounting', 'November'])\n",
    "    employee_writer.writerow(['Erica Meyers', 'IT', 'March'])"
   ]
  }
 ],
 "metadata": {
  "kernelspec": {
   "display_name": "Python 3 (ipykernel)",
   "language": "python",
   "name": "python3"
  },
  "language_info": {
   "codemirror_mode": {
    "name": "ipython",
    "version": 3
   },
   "file_extension": ".py",
   "mimetype": "text/x-python",
   "name": "python",
   "nbconvert_exporter": "python",
   "pygments_lexer": "ipython3",
   "version": "3.9.0"
  }
 },
 "nbformat": 4,
 "nbformat_minor": 5
}
